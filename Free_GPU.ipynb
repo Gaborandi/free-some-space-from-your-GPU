{
 "cells": [
  {
   "cell_type": "code",
   "execution_count": 5,
   "id": "cb4d29e2-5c43-46d0-83dc-0de919220179",
   "metadata": {},
   "outputs": [
    {
     "name": "stdout",
     "output_type": "stream",
     "text": [
      "Requirement already satisfied: GPUtil in ./.conda/envs/pytorch/lib/python3.8/site-packages (1.4.0)\n",
      "Requirement already satisfied: numba in ./.conda/envs/pytorch/lib/python3.8/site-packages (0.55.2)\n",
      "Requirement already satisfied: setuptools in ./.conda/envs/pytorch/lib/python3.8/site-packages (from numba) (58.0.4)\n",
      "Requirement already satisfied: numpy<1.23,>=1.18 in ./.conda/envs/pytorch/lib/python3.8/site-packages (from numba) (1.22.4)\n",
      "Requirement already satisfied: llvmlite<0.39,>=0.38.0rc1 in ./.conda/envs/pytorch/lib/python3.8/site-packages (from numba) (0.38.1)\n",
      "Initial GPU Usage\n",
      "| ID | GPU | MEM |\n",
      "------------------\n",
      "|  0 |  0% | 94% |\n",
      "GPU Usage after emptying the cache\n",
      "| ID | GPU | MEM |\n",
      "------------------\n",
      "|  0 |  6% | 94% |\n"
     ]
    }
   ],
   "source": [
    "!pip install GPUtil\n",
    "!pip install numba\n",
    " \n",
    "import torch\n",
    "from GPUtil import showUtilization as gpu_usage\n",
    "from numba import cuda\n",
    " \n",
    "def free_gpu_cache():\n",
    "    print(\"Initial GPU Usage\")\n",
    "    gpu_usage()                             \n",
    " \n",
    "    torch.cuda.empty_cache()\n",
    " \n",
    "    cuda.select_device(0)\n",
    "    cuda.close()\n",
    "    cuda.select_device(0)\n",
    " \n",
    "    print(\"GPU Usage after emptying the cache\")\n",
    "    gpu_usage()\n",
    " \n",
    "free_gpu_cache() "
   ]
  },
  {
   "cell_type": "code",
   "execution_count": 3,
   "id": "d4198037-c7c5-45c2-87c3-5a518a97621a",
   "metadata": {},
   "outputs": [],
   "source": [
    "torch.cuda.empty_cache()"
   ]
  },
  {
   "cell_type": "code",
   "execution_count": null,
   "id": "9c95cf01-e012-47f3-ab78-ca4055721411",
   "metadata": {},
   "outputs": [],
   "source": []
  },
  {
   "cell_type": "code",
   "execution_count": null,
   "id": "2e71cec4-174f-43a6-9e42-473abfcefc8b",
   "metadata": {},
   "outputs": [],
   "source": []
  }
 ],
 "metadata": {
  "kernelspec": {
   "display_name": "Python 3 (ipykernel)",
   "language": "python",
   "name": "python3"
  },
  "language_info": {
   "codemirror_mode": {
    "name": "ipython",
    "version": 3
   },
   "file_extension": ".py",
   "mimetype": "text/x-python",
   "name": "python",
   "nbconvert_exporter": "python",
   "pygments_lexer": "ipython3",
   "version": "3.8.3"
  }
 },
 "nbformat": 4,
 "nbformat_minor": 5
}
